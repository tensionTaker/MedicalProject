{
 "cells": [
  {
   "cell_type": "code",
   "execution_count": 108,
   "id": "b5714d0d",
   "metadata": {},
   "outputs": [],
   "source": [
    "from pdf2image import convert_from_path"
   ]
  },
  {
   "cell_type": "code",
   "execution_count": 109,
   "id": "b889d1ef",
   "metadata": {},
   "outputs": [],
   "source": [
    "pages = convert_from_path(r'docs\\medicalDetails\\pd_2.pdf',poppler_path=r'c:\\poppler-22.04.0\\Library\\bin')"
   ]
  },
  {
   "cell_type": "code",
   "execution_count": 110,
   "id": "f2fef47c",
   "metadata": {},
   "outputs": [],
   "source": [
    "pages[0].show()"
   ]
  },
  {
   "cell_type": "code",
   "execution_count": null,
   "id": "3defff2d",
   "metadata": {},
   "outputs": [],
   "source": []
  },
  {
   "cell_type": "code",
   "execution_count": 111,
   "id": "bffe2e53",
   "metadata": {},
   "outputs": [],
   "source": [
    "import pytesseract"
   ]
  },
  {
   "cell_type": "code",
   "execution_count": 112,
   "id": "0f4333d6",
   "metadata": {},
   "outputs": [
    {
     "name": "stdout",
     "output_type": "stream",
     "text": [
      "i 2\n",
      "\n",
      "Patient Medical Record\n",
      "\n",
      "Patient Information\n",
      "Jerry Lucas\n",
      "\n",
      "(279) 920-8204\n",
      "4218 Wheeler Ridge Dr\n",
      "\n",
      "Buffalo, New York, 14201\n",
      "United States\n",
      "\n",
      "In Case of Emergency\n",
      "\n",
      "Birth Date\n",
      "May 2 1998\n",
      "\n",
      "Weight:\n",
      "57\n",
      "\n",
      "Height:\n",
      "170\n",
      "\n",
      "Joe Lucas\n",
      "\n",
      "Home phone\n",
      "\n",
      "General Medical History\n",
      "\n",
      "4218 Wheeler Ridge Dr\n",
      "Buffalo, New York, 14201\n",
      "United States\n",
      "\n",
      "Work phone\n",
      "\n",
      "Chicken Pox (Varicella):\n",
      "\n",
      "IMMUNE\n",
      "\n",
      "Have you had the Hepatitis B vaccination?\n",
      "\n",
      "Measles:\n",
      "\n",
      "NOT IMMUNE\n",
      "\n",
      "any Medical Problems (asthma, seizures, headaches):\n",
      "\n",
      "\n"
     ]
    }
   ],
   "source": [
    "pytesseract.pytesseract.tesseract_cmd=r'c:\\Program Files\\Tesseract-OCR\\tesseract.exe'\n",
    "text = pytesseract.image_to_string(pages[0],lang='eng')\n",
    "print(text)"
   ]
  },
  {
   "cell_type": "code",
   "execution_count": 113,
   "id": "d251670d",
   "metadata": {},
   "outputs": [],
   "source": [
    "import numpy as np\n",
    "import cv2\n",
    "from PIL import Image\n",
    "\n",
    "def preprocess_image(img):\n",
    "    gray=cv2.cvtColor(np.array(img),cv2.COLOR_BGR2GRAY)\n",
    "    resized=cv2.resize(gray, None, fx=1.5, fy=1.5, interpolation=cv2.INTER_LINEAR)\n",
    "    processed_img = cv2.adaptiveThreshold(\n",
    "    resized,255,                       # source image, max value\n",
    "    cv2.ADAPTIVE_THRESH_GAUSSIAN_C, # threshold value using gaussian method\n",
    "    cv2.THRESH_BINARY,              # format\n",
    "    61,                             # block size\n",
    "    11      \n",
    "    )\n",
    "    return processed_img\n"
   ]
  },
  {
   "cell_type": "code",
   "execution_count": 114,
   "id": "e669ce71",
   "metadata": {},
   "outputs": [],
   "source": [
    "x=preprocess_image(pages[0])\n",
    "t=Image.fromarray(x)\n",
    "x\n",
    "t.show()"
   ]
  },
  {
   "cell_type": "code",
   "execution_count": 115,
   "id": "2a737dae",
   "metadata": {},
   "outputs": [
    {
     "name": "stdout",
     "output_type": "stream",
     "text": [
      "Patient Medical Record\n",
      "\n",
      "Patient Information Birth Date\n",
      "\n",
      "Jerry Lucas May 2 1998\n",
      "\n",
      "(279) 920-8204 Weight:\n",
      "\n",
      "4218 Wheeler Ridge Dr 57\n",
      "\n",
      "Buffalo, New York, 14201 Height:\n",
      "\n",
      "United States gnt\n",
      "170\n",
      "\n",
      "In Case of Emergency\n",
      "\n",
      "- eee\n",
      "\n",
      "Joe Lucas . 4218 Wheeler Ridge Dr\n",
      "Buffalo, New York, 14201\n",
      "Home phone United States\n",
      "Work phone\n",
      "\n",
      "General Medical History\n",
      "\n",
      "Chicken Pox (Varicelia): Measles: ..\n",
      "\n",
      "IMMUNE NOT IMMUNE\n",
      "\n",
      "Have you had the Hepatitis B vaccination?\n",
      "\n",
      "‘Yes\n",
      "\n",
      "| List any Medical Problems (asthma, seizures, headaches):\n",
      "N/A\n",
      "\n",
      "7?\n",
      "v\n",
      "\n",
      "17/12/2020\n",
      "\n",
      "\n"
     ]
    }
   ],
   "source": [
    "pytesseract.pytesseract.tesseract_cmd=r'c:\\Program Files\\Tesseract-OCR\\tesseract.exe'\n",
    "text = pytesseract.image_to_string(x,lang='eng')\n",
    "print(text)"
   ]
  },
  {
   "cell_type": "code",
   "execution_count": 76,
   "id": "3ffa0b52",
   "metadata": {},
   "outputs": [
    {
     "data": {
      "text/plain": [
       "'Kathy Crawford'"
      ]
     },
     "execution_count": 76,
     "metadata": {},
     "output_type": "execute_result"
    }
   ],
   "source": [
    "import re\n",
    "pattern = 'Patient Information Birth Date(.*)(Jan|Feb|March|April|May|June|July|August|September|October|November|December)'\n",
    "match=re.search(pattern, text, flags=re.DOTALL)\n",
    "match.groups()[0].strip()"
   ]
  },
  {
   "cell_type": "code",
   "execution_count": 79,
   "id": "2428eb0f",
   "metadata": {},
   "outputs": [
    {
     "data": {
      "text/plain": [
       "'(737) 988-0851'"
      ]
     },
     "execution_count": 79,
     "metadata": {},
     "output_type": "execute_result"
    }
   ],
   "source": [
    "pattern = 'Patient Information.*(\\(\\d{3}\\) \\d{3}-\\d{4}) Weight'\n",
    "match=re.search(pattern, text, flags=re.DOTALL)\n",
    "match.groups()[0].strip()"
   ]
  },
  {
   "cell_type": "code",
   "execution_count": 94,
   "id": "5707496c",
   "metadata": {},
   "outputs": [
    {
     "data": {
      "text/plain": [
       "'No'"
      ]
     },
     "execution_count": 94,
     "metadata": {},
     "output_type": "execute_result"
    }
   ],
   "source": [
    "pattern = 'Have you had the Hepatitis B vaccination\\?(.*)List'\n",
    "match=re.search(pattern, text, flags=re.DOTALL)\n",
    "match.groups()[0].strip()"
   ]
  },
  {
   "cell_type": "code",
   "execution_count": 107,
   "id": "76181a45",
   "metadata": {},
   "outputs": [
    {
     "data": {
      "text/plain": [
       "'Migraine'"
      ]
     },
     "execution_count": 107,
     "metadata": {},
     "output_type": "execute_result"
    }
   ],
   "source": [
    "pattern = 'List any Medical Problems.*:(.*)\\n'\n",
    "match=re.search(pattern, text, flags=re.DOTALL)\n",
    "match.groups()[0].strip()"
   ]
  }
 ],
 "metadata": {
  "kernelspec": {
   "display_name": "Python 3 (ipykernel)",
   "language": "python",
   "name": "python3"
  },
  "language_info": {
   "codemirror_mode": {
    "name": "ipython",
    "version": 3
   },
   "file_extension": ".py",
   "mimetype": "text/x-python",
   "name": "python",
   "nbconvert_exporter": "python",
   "pygments_lexer": "ipython3",
   "version": "3.10.4"
  }
 },
 "nbformat": 4,
 "nbformat_minor": 5
}
