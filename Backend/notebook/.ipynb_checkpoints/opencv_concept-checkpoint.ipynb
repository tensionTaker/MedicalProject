{
 "cells": [
  {
   "cell_type": "code",
   "execution_count": 3,
   "id": "4d5ea9fc",
   "metadata": {},
   "outputs": [],
   "source": [
    "import cv2\n",
    "from PIL import Image"
   ]
  },
  {
   "cell_type": "code",
   "execution_count": 5,
   "id": "20a7daaf",
   "metadata": {},
   "outputs": [
    {
     "data": {
      "text/plain": [
       "array([[206, 206, 206, ..., 185, 185, 185],\n",
       "       [206, 206, 206, ..., 185, 185, 185],\n",
       "       [206, 206, 206, ..., 186, 185, 185],\n",
       "       ...,\n",
       "       [207, 207, 207, ..., 191, 190, 190],\n",
       "       [207, 207, 207, ..., 191, 190, 190],\n",
       "       [207, 207, 207, ..., 191, 191, 190]], dtype=uint8)"
      ]
     },
     "execution_count": 5,
     "metadata": {},
     "output_type": "execute_result"
    }
   ],
   "source": [
    "img=cv2.imread(\"clear_image.jpg\",flags=cv2.IMREAD_GRAYSCALE)\n",
    "img"
   ]
  },
  {
   "cell_type": "code",
   "execution_count": 9,
   "id": "5d0b5340",
   "metadata": {},
   "outputs": [],
   "source": [
    "Image.fromarray(img).show() # Image is image processing tool in python from PILLOW"
   ]
  },
  {
   "cell_type": "code",
   "execution_count": 28,
   "id": "971bf879",
   "metadata": {},
   "outputs": [],
   "source": [
    "_,newimage=cv2.threshold(img,162,255,cv2.THRESH_BINARY) # (image in array, threshold value, maximum value, in binary)\n",
    "Image.fromarray(newimage).show()"
   ]
  },
  {
   "cell_type": "code",
   "execution_count": 20,
   "id": "7fec69d5",
   "metadata": {},
   "outputs": [],
   "source": [
    "img1=cv2.imread(\"dark_image.jpg\",flags=cv2.IMREAD_GRAYSCALE)"
   ]
  },
  {
   "cell_type": "code",
   "execution_count": 34,
   "id": "32a178ab",
   "metadata": {},
   "outputs": [],
   "source": [
    "newimg1=cv2.adaptiveThreshold(    \n",
    "    img1,255,                       # source image, max value\n",
    "    cv2.ADAPTIVE_THRESH_GAUSSIAN_C, # threshold value using gaussian method\n",
    "    cv2.THRESH_BINARY,              # format\n",
    "    61,                             # block size\n",
    "    11                              # value that need to subtracted from gaussian value\n",
    ")\n",
    "Image.fromarray(newimg1).show()"
   ]
  },
  {
   "cell_type": "code",
   "execution_count": null,
   "id": "3a0da8e3",
   "metadata": {},
   "outputs": [],
   "source": []
  }
 ],
 "metadata": {
  "kernelspec": {
   "display_name": "Python 3 (ipykernel)",
   "language": "python",
   "name": "python3"
  },
  "language_info": {
   "codemirror_mode": {
    "name": "ipython",
    "version": 3
   },
   "file_extension": ".py",
   "mimetype": "text/x-python",
   "name": "python",
   "nbconvert_exporter": "python",
   "pygments_lexer": "ipython3",
   "version": "3.10.4"
  }
 },
 "nbformat": 4,
 "nbformat_minor": 5
}
